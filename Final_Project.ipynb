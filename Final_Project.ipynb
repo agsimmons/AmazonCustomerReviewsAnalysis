{
 "cells": [
  {
   "cell_type": "markdown",
   "metadata": {},
   "source": [
    "# Amazon Customer Review Analysis\n",
    "## By. Andrew Simmons & Jingnan Jin"
   ]
  },
  {
   "cell_type": "markdown",
   "metadata": {},
   "source": [
    "## Schema Reference\n",
    "0. marketplace\n",
    "1. customer_id\n",
    "2. review_id\n",
    "3. product_id\n",
    "4. product_parent\n",
    "5. product_title\n",
    "6. product_category\n",
    "7. star_rating\n",
    "8. helpful_votes\n",
    "9. total_votes\n",
    "10. vine\n",
    "11. verified_purchase\n",
    "12. review_headline\n",
    "13. review_body\n",
    "14. review_date"
   ]
  },
  {
   "cell_type": "code",
   "execution_count": null,
   "metadata": {},
   "outputs": [],
   "source": [
    "from collections import defaultdict\n",
    "from functools import reduce\n",
    "from operator import itemgetter\n",
    "from pathlib import Path\n",
    "import re\n",
    "\n",
    "import findspark\n",
    "import matplotlib.pyplot as plt\n",
    "import numpy as np\n",
    "\n",
    "findspark.init()\n",
    "\n",
    "# create entry points to spark\n",
    "try:\n",
    "    sc.stop()\n",
    "except:\n",
    "    pass\n",
    "from pyspark import SparkContext, SparkConf\n",
    "from pyspark.sql import SparkSession\n",
    "conf = SparkConf().setAppName(\"AmazonCustomerReviewAnalysis\").setMaster(\"local[*]\")\n",
    "sc = SparkContext(conf=conf)\n",
    "spark = SparkSession(sparkContext=sc)"
   ]
  },
  {
   "cell_type": "code",
   "execution_count": null,
   "metadata": {},
   "outputs": [],
   "source": [
    "# Constants\n",
    "PLOT_DIMENSIONS = (20, 10)"
   ]
  },
  {
   "cell_type": "code",
   "execution_count": null,
   "metadata": {},
   "outputs": [],
   "source": [
    "\"\"\"Process list of files to separate by category\"\"\"\n",
    "\n",
    "data_dir = Path('sample_data')\n",
    "data_files = data_dir.glob('*.tsv.gz')\n",
    "\n",
    "data_categories = defaultdict(list)\n",
    "for file in data_files:\n",
    "    category_name = file.name[18:-13].replace('_', ' ')\n",
    "    data_categories[category_name].append(file)"
   ]
  },
  {
   "cell_type": "code",
   "execution_count": null,
   "metadata": {},
   "outputs": [],
   "source": [
    "\"\"\"Create mapping of category names to unioned RDD\"\"\"\n",
    "\n",
    "for key, value in data_categories.items():\n",
    "    data_categories[key] = sc.union([sc.textFile(str(file)) for file in value])"
   ]
  },
  {
   "cell_type": "code",
   "execution_count": null,
   "metadata": {},
   "outputs": [],
   "source": [
    "\"\"\"Remove headers from data\"\"\"\n",
    "\n",
    "for key, value in data_categories.items():\n",
    "    data_categories[key] = value.filter(lambda x: not x.startswith('marketplace'))"
   ]
  },
  {
   "cell_type": "code",
   "execution_count": null,
   "metadata": {},
   "outputs": [],
   "source": [
    "\"\"\"Split TSV\"\"\"\n",
    "\n",
    "for key, value in data_categories.items():\n",
    "    data_categories[key] = value.map(lambda x: x.split('\\t'))"
   ]
  },
  {
   "cell_type": "markdown",
   "metadata": {},
   "source": [
    "## How many records exist in each category?"
   ]
  },
  {
   "cell_type": "code",
   "execution_count": null,
   "metadata": {},
   "outputs": [],
   "source": [
    "record_counts = []\n",
    "for key, value in data_categories.items():\n",
    "    record_counts.append((key, value.count()))\n",
    "\n",
    "categories, counts = zip(*sorted(record_counts, key=itemgetter(1)))\n",
    "\n",
    "fig, ax = plt.subplots()\n",
    "fig.set_size_inches(PLOT_DIMENSIONS)\n",
    "\n",
    "rects = ax.bar(categories, counts)\n",
    "\n",
    "ax.set_title('Amazon Review Counts by Category')\n",
    "ax.set_xlabel('Product Category')\n",
    "ax.set_ylabel('Review Counts')\n",
    "\n",
    "for tick in ax.get_xticklabels():\n",
    "    tick.set_rotation(90)\n",
    "\n",
    "print(f'Total number of reviews in dataset: {sum(counts)}')"
   ]
  },
  {
   "cell_type": "markdown",
   "metadata": {},
   "source": [
    "## Overall, how satisfied are customers of each product category?"
   ]
  },
  {
   "cell_type": "code",
   "execution_count": null,
   "metadata": {},
   "outputs": [],
   "source": [
    "average_review_by_category = []\n",
    "for key, value in data_categories.items():\n",
    "    star_ratings = value.map(lambda x: int(x[7]))\n",
    "    average_review_by_category.append((key, star_ratings.mean()))\n",
    "\n",
    "categories, ratings = zip(*sorted(average_review_by_category, key=itemgetter(1)))\n",
    "\n",
    "fig, ax = plt.subplots()\n",
    "fig.set_size_inches(PLOT_DIMENSIONS)\n",
    "\n",
    "rects = ax.bar(categories, ratings)\n",
    "\n",
    "ax.set_title('Average Product Category Rating')\n",
    "ax.set_xlabel('Product Category')\n",
    "ax.set_ylabel('Average Rating')\n",
    "\n",
    "for tick in ax.get_xticklabels():\n",
    "    tick.set_rotation(90)"
   ]
  },
  {
   "cell_type": "code",
   "execution_count": null,
   "metadata": {},
   "outputs": [],
   "source": []
  }
 ],
 "metadata": {
  "kernelspec": {
   "display_name": "Python 3",
   "language": "python",
   "name": "python3"
  },
  "language_info": {
   "codemirror_mode": {
    "name": "ipython",
    "version": 3
   },
   "file_extension": ".py",
   "mimetype": "text/x-python",
   "name": "python",
   "nbconvert_exporter": "python",
   "pygments_lexer": "ipython3",
   "version": "3.7.3"
  }
 },
 "nbformat": 4,
 "nbformat_minor": 4
}
